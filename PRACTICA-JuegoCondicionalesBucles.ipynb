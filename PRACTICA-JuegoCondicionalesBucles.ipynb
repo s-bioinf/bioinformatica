{
 "cells": [
  {
   "cell_type": "markdown",
   "id": "e87fdfc4",
   "metadata": {},
   "source": [
    "# PRACTICA JUEGO CONDICIONALES BUCLES\n",
    "\n",
    "#### Esta práctica se entrega el día 22 de Octubre a las 23:59\n",
    "#### Cuenta el 10% de la nota\n",
    "\n",
    "## JUEGO DE ADIVINANZAS\n",
    "\n",
    "#### Escribe un programa que coja un número entero del 1 al 100, y los jugadores tienen que tratar de adivinar el número.\n",
    "\n",
    "#### Las reglas son las siguientes:\n",
    "\n",
    "1. Si un jugador escoje un número menor que 1 o mayor que 100, el programa dice \"FUERA DE LÍMITES\"\n",
    "2. En el primer turno del jugador, si está en un rango de 10 del número dice \"¡CALIENTE!\". Si está fuera de ese rango dice \"¡FRIO!\"\n",
    "3. En todas las rondas siguientes, si el jugador se acerca más que la vez anterior, dice \"¡MAS CALIENTE!\". Si está más lejos que la anterior vez dice \"¡MAS FRIO!\"\n",
    "4. Cuando el jugador acierte el número, les dirá que han acertado y cuántos intentos les ha llevado\n",
    "\n",
    "\n",
    "\n"
   ]
  },
  {
   "cell_type": "markdown",
   "id": "1ea418c3",
   "metadata": {},
   "source": [
    "##### PISTAS\n",
    "1. Trata obtener un número aleatorio entre el 1 y el 100\n",
    "2. Haz una introducción de tu juego y explica las reglas\n",
    "3. Crea una lista que almacene los intentos. \n",
    "4. Haz un bucle que evalúe un número. Prueba que funcione primero. While podría ir bien\n",
    "5. Modifica ese bucle para que compare nuestro número con el intento. Si se acierta usa break, si no puedes usar continue y tienes que seguir preguntando al jugador por nuevos intentos"
   ]
  },
  {
   "cell_type": "code",
   "execution_count": null,
   "id": "f0baa2a6",
   "metadata": {},
   "outputs": [],
   "source": [
    "import random\n"
   ]
  },
  {
   "cell_type": "code",
   "execution_count": null,
   "id": "fb28623b",
   "metadata": {},
   "outputs": [],
   "source": [
    "num=random.randint(1,100)"
   ]
  },
  {
   "cell_type": "code",
   "execution_count": null,
   "id": "8772e073",
   "metadata": {},
   "outputs": [],
   "source": [
    "print(\"BIENVENIDO AL JUEGO DE ADIVINANZAS\")"
   ]
  },
  {
   "cell_type": "code",
   "execution_count": null,
   "id": "f26c8519",
   "metadata": {},
   "outputs": [],
   "source": [
    "print(\"Estoy pensando un número del 1 al 100...\")\n",
    "print(\"Si tu primer intento está dentro de un rango de 10 de mi número, te diré ¡CALIENTE!\")\n",
    "print(\"Si tu primer intento está fuera de ese rangio, te diré ¡FRÍO!\")\n",
    "print(\"Si tus siguientes intentos se van acercando, te diré ¡MÁS CALIENTE!\")\n",
    "print(\"Si tus siguientes intentos se van alejando, te diré ¡MÁS FRÍO!\")\n",
    "print(\"¡EMPEZAMOS!\")"
   ]
  },
  {
   "cell_type": "code",
   "execution_count": null,
   "id": "c49c7898",
   "metadata": {},
   "outputs": [],
   "source": [
    "intento=[]"
   ]
  },
  {
   "cell_type": "code",
   "execution_count": null,
   "id": "cfede763",
   "metadata": {},
   "outputs": [],
   "source": [
    "while True:\n",
    "    intento=int(input(\"Estoy pensando entre un número entre el 1 y el 100.\\n¿Puedes adivinarlo?\"))\n",
    "    \n",
    "    if intento < 1 or intento > 100:\n",
    "        print(\"¡FUERA DE LÍMITES! Por favor, intentalo de nuevo\")\n",
    "    else:\n",
    "        continue\n",
    "        \n",
    "    intentos.append(intento)   \n",
    "    \n",
    "    if intento == num:\n",
    "        print(f'FELICIDADES, LO HAS ADIVINADO CON SOLO {len(intentos)}!!')\n",
    "        break\n",
    "   \n",
    "    if len(intentos) <= 2:\n",
    "        if abs(num-intento) < abs(num-intentos[-2]):\n",
    "            print(\"¡MAS CALIENTE!\")\n",
    "        else:\n",
    "            print(\"¡MAS FRÍO!\")\n",
    "    else:\n",
    "        if abs(num-intento) <= 10:\n",
    "            print(\"¡CALIENTE1\")\n",
    "        else:\n",
    "            print(\"¡FRÍO!\")"
   ]
  },
  {
   "cell_type": "code",
   "execution_count": null,
   "id": "748b1f57",
   "metadata": {},
   "outputs": [],
   "source": [
    "intento=int(input(\"Estoy pensando entre un número entre el 1 y el 100.\\n¿Puedes adivinarlo?\"))"
   ]
  },
  {
   "cell_type": "code",
   "execution_count": null,
   "id": "36c03930",
   "metadata": {},
   "outputs": [],
   "source": [
    "if intento < 1 or intento > 100:\n",
    "    print(\"¡FUERA DE LÍMITES! Por favor, intentalo de nuevo\")"
   ]
  },
  {
   "cell_type": "code",
   "execution_count": null,
   "id": "f908e0f2",
   "metadata": {},
   "outputs": [],
   "source": [
    "intentos.append(intento)"
   ]
  },
  {
   "cell_type": "code",
   "execution_count": 24,
   "id": "3aa7da79",
   "metadata": {},
   "outputs": [
    {
     "data": {
      "text/plain": [
       "[5, 90]"
      ]
     },
     "execution_count": 24,
     "metadata": {},
     "output_type": "execute_result"
    }
   ],
   "source": [
    "intentos"
   ]
  },
  {
   "cell_type": "code",
   "execution_count": 20,
   "id": "c5a6edb0",
   "metadata": {},
   "outputs": [
    {
     "name": "stdout",
     "output_type": "stream",
     "text": [
      "¡FRÍO!\n"
     ]
    }
   ],
   "source": [
    "if abs(num-intento) <= 10:\n",
    "    print(\"¡CALIENTE1\")\n",
    "else:\n",
    "    print(\"¡FRÍO!\")"
   ]
  },
  {
   "cell_type": "code",
   "execution_count": 25,
   "id": "739e7a3a",
   "metadata": {},
   "outputs": [
    {
     "data": {
      "text/plain": [
       "5"
      ]
     },
     "execution_count": 25,
     "metadata": {},
     "output_type": "execute_result"
    }
   ],
   "source": [
    "intentos[-2]"
   ]
  },
  {
   "cell_type": "code",
   "execution_count": 26,
   "id": "8c51b96b",
   "metadata": {},
   "outputs": [
    {
     "name": "stdout",
     "output_type": "stream",
     "text": [
      "¡MAS FRÍO!\n"
     ]
    }
   ],
   "source": [
    "if abs(num-intento) < abs(num-intentos[-2]):\n",
    "    print(\"¡MAS CALIENTE!\")\n",
    "else:\n",
    "    print(\"¡MAS FRÍO!\")"
   ]
  },
  {
   "cell_type": "code",
   "execution_count": null,
   "id": "b587f4c1",
   "metadata": {},
   "outputs": [],
   "source": []
  },
  {
   "cell_type": "code",
   "execution_count": null,
   "id": "93f752f4",
   "metadata": {},
   "outputs": [],
   "source": []
  },
  {
   "cell_type": "code",
   "execution_count": null,
   "id": "7d75dae8",
   "metadata": {},
   "outputs": [],
   "source": []
  }
 ],
 "metadata": {
  "kernelspec": {
   "display_name": "Python 3 (ipykernel)",
   "language": "python",
   "name": "python3"
  },
  "language_info": {
   "codemirror_mode": {
    "name": "ipython",
    "version": 3
   },
   "file_extension": ".py",
   "mimetype": "text/x-python",
   "name": "python",
   "nbconvert_exporter": "python",
   "pygments_lexer": "ipython3",
   "version": "3.11.4"
  }
 },
 "nbformat": 4,
 "nbformat_minor": 5
}
