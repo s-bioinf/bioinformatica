{
 "cells": [
  {
   "cell_type": "code",
   "execution_count": null,
   "id": "a5c997c0",
   "metadata": {},
   "outputs": [],
   "source": [
    "#Extraer el número de secuencias que hay en el archivo\n",
    "grep -E -c \">\" multifasta.txt"
   ]
  },
  {
   "cell_type": "code",
   "execution_count": null,
   "id": "5a48ba0c",
   "metadata": {},
   "outputs": [],
   "source": [
    "#Extraer el identificador de las secuencias\n",
    "grep -E -c \"NM_005214.5|XM_002812770.4|XM_055287842.1|XM_003820779.4|XM_526000.7|XM_004033085.3|XM_003253971.4\" multifasta.txt\n",
    "#Extraer el identificador de la secuencia de otra forma\n",
    "grep -E -o \"^>[A-Z]{1,2}_?[A-Z0-9]{1,8}\\.[0-9]\"  multifasta.txt  >  identificadores_multifasta.txt"
   ]
  },
  {
   "cell_type": "code",
   "execution_count": null,
   "id": "21a4185c",
   "metadata": {},
   "outputs": [],
   "source": [
    "#Extrae el organismo de cada secuencia\n",
    "grep -E -o \"(Homo sapiens|Pongo abelii|Symphalangus syndactylus|Pan paniscus|Pan troglodytes|gorila gorila gorila|Nomascus leucogenys|)( str.| strain| | isolate) ?[A-Za-z-]{2,10}\"  multifasta.txt >  nombres_multifasta.txt"
   ]
  },
  {
   "cell_type": "code",
   "execution_count": null,
   "id": "ae4c593e",
   "metadata": {},
   "outputs": [],
   "source": [
    "#Extraer las subsecuencias de tu archivo multifasta que empiecen por ATGC  y terminen por GTAA\n",
    "grep -E \"ATGC.+GTAA\" multifasta.txt"
   ]
  },
  {
   "cell_type": "code",
   "execution_count": null,
   "id": "c2f0975f",
   "metadata": {},
   "outputs": [],
   "source": [
    "#Búsqueda de sitios de restricción y línea en la que se encuentran\n",
    "grep -n \"GGATG\" multifasta.txt\n",
    "grep -n \"GGTGA\" multifasta.txt\n",
    "grep -n \"ACGT\" multifasta.txt\n",
    "\n",
    "grep -c \"GGATG\" multifasta.txt\n",
    "grep -c \"GGTGA\" multifasta.txt\n",
    "grep -c \"ACGT\" multifasta.txt\n",
    "\n"
   ]
  },
  {
   "cell_type": "code",
   "execution_count": null,
   "id": "12ebe4f4",
   "metadata": {},
   "outputs": [],
   "source": [
    "#Cadenas de mi proteina\n",
    "grep -n \"TER\" 1ah1.pdb "
   ]
  },
  {
   "cell_type": "code",
   "execution_count": null,
   "id": "c30ff720",
   "metadata": {},
   "outputs": [],
   "source": [
    "#Eliminar puentes de hidrogeno\n",
    "grep -E -n \"^HETATM\" 1ah1.pdb"
   ]
  },
  {
   "cell_type": "code",
   "execution_count": null,
   "id": "0ae34a45",
   "metadata": {},
   "outputs": [],
   "source": [
    "sed '2338,2529d' 1ah1.pdb >  1ah1_no_HETATM.pdb"
   ]
  },
  {
   "cell_type": "code",
   "execution_count": null,
   "id": "d740fab1",
   "metadata": {},
   "outputs": [],
   "source": [
    "#Cambia PHE por ALA\n",
    "sed 's/PHE/ALA/g' 1ah1.pdb > 1ah1_ala.pdb"
   ]
  }
 ],
 "metadata": {
  "kernelspec": {
   "display_name": "Python 3 (ipykernel)",
   "language": "python",
   "name": "python3"
  },
  "language_info": {
   "codemirror_mode": {
    "name": "ipython",
    "version": 3
   },
   "file_extension": ".py",
   "mimetype": "text/x-python",
   "name": "python",
   "nbconvert_exporter": "python",
   "pygments_lexer": "ipython3",
   "version": "3.11.4"
  }
 },
 "nbformat": 4,
 "nbformat_minor": 5
}
